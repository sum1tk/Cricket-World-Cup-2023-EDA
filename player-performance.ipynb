{
 "cells": [
  {
   "cell_type": "code",
   "execution_count": 1,
   "metadata": {},
   "outputs": [],
   "source": [
    "#required library imports\n",
    "import pandas as pd\n",
    "import numpy as np\n",
    "import matplotlib.pyplot as plt\n",
    "import seaborn as sns"
   ]
  },
  {
   "cell_type": "code",
   "execution_count": 2,
   "metadata": {},
   "outputs": [],
   "source": [
    "df=pd.read_csv('CWC23_all_innings.csv')\n",
    "df['start_date'] = pd.to_datetime(df['start_date'])\n",
    "\n",
    "df_bat=df[df['bat_or_bowl']=='bat']\n",
    "df_bowl=df[df['bat_or_bowl']=='bowl']"
   ]
  },
  {
   "cell_type": "code",
   "execution_count": 7,
   "metadata": {},
   "outputs": [
    {
     "name": "stdout",
     "output_type": "stream",
     "text": [
      "Leading Run-Scorers\n"
     ]
    },
    {
     "data": {
      "text/plain": [
       "player\n",
       "V Kohli (IND)             711\n",
       "Q de Kock (SA)            594\n",
       "R Ravindra (NZ)           578\n",
       "DJ Mitchell (NZ)          552\n",
       "RG Sharma (IND)           550\n",
       "DA Warner (AUS)           528\n",
       "SS Iyer (IND)             526\n",
       "HE van der Dussen (SA)    448\n",
       "MR Marsh (AUS)            426\n",
       "AK Markram (SA)           406\n",
       "Name: runs, dtype: int64"
      ]
     },
     "metadata": {},
     "output_type": "display_data"
    },
    {
     "name": "stdout",
     "output_type": "stream",
     "text": [
      "consitency of a batsmen\n"
     ]
    },
    {
     "data": {
      "text/plain": [
       "player\n",
       "V Kohli (IND)            101.571429\n",
       "KS Williamson (NZ)        85.333333\n",
       "KL Rahul (IND)            77.200000\n",
       "SS Iyer (IND)             75.142857\n",
       "Fakhar Zaman (PAK)        73.333333\n",
       "DJ Mitchell (NZ)          69.000000\n",
       "GJ Maxwell (AUS)          66.333333\n",
       "Mohammad Rizwan (PAK)     65.833333\n",
       "R Ravindra (NZ)           64.222222\n",
       "Q de Kock (SA)            59.400000\n",
       "dtype: float64"
      ]
     },
     "metadata": {},
     "output_type": "display_data"
    },
    {
     "name": "stdout",
     "output_type": "stream",
     "text": [
      "avg time on field\n"
     ]
    },
    {
     "data": {
      "text/plain": [
       "player\n",
       "V Kohli (IND)             109.700000\n",
       "KS Williamson (NZ)        102.750000\n",
       "R Ravindra (NZ)            87.200000\n",
       "DJ Mitchell (NZ)           80.444444\n",
       "BA Stokes (ENG)            80.166667\n",
       "Q de Kock (SA)             79.900000\n",
       "HE van der Dussen (SA)     79.400000\n",
       "Ibrahim Zadran (AFG)       78.222222\n",
       "Mohammad Rizwan (PAK)      77.250000\n",
       "DA Warner (AUS)            75.800000\n",
       "Name: mins, dtype: float64"
      ]
     },
     "metadata": {},
     "output_type": "display_data"
    },
    {
     "name": "stdout",
     "output_type": "stream",
     "text": [
      "4s and 6s\n"
     ]
    },
    {
     "data": {
      "text/plain": [
       "player\n",
       "V Kohli (IND)       64.0\n",
       "RG Sharma (IND)     62.0\n",
       "Q de Kock (SA)      57.0\n",
       "R Ravindra (NZ)     55.0\n",
       "DP Conway (NZ)      54.0\n",
       "DJ Malan (ENG)      50.0\n",
       "DA Warner (AUS)     49.0\n",
       "DJ Mitchell (NZ)    48.0\n",
       "P Nissanka (SL)     44.0\n",
       "AK Markram (SA)     44.0\n",
       "Name: 4s, dtype: float64"
      ]
     },
     "metadata": {},
     "output_type": "display_data"
    },
    {
     "data": {
      "text/plain": [
       "player\n",
       "RG Sharma (IND)       28.0\n",
       "DA Warner (AUS)       24.0\n",
       "SS Iyer (IND)         24.0\n",
       "DJ Mitchell (NZ)      22.0\n",
       "GJ Maxwell (AUS)      22.0\n",
       "Q de Kock (SA)        21.0\n",
       "DA Miller (SA)        20.0\n",
       "MR Marsh (AUS)        20.0\n",
       "H Klaasen (SA)        19.0\n",
       "Fakhar Zaman (PAK)    18.0\n",
       "Name: 6s, dtype: float64"
      ]
     },
     "metadata": {},
     "output_type": "display_data"
    }
   ],
   "source": [
    "# Leading Run-Scorers:\n",
    "# Identify players with the highest total runs.\n",
    "\n",
    "leading_scorers=df_bat.groupby('player')['runs'].sum().sort_values(ascending=False)[0:10]\n",
    "print('Leading Run-Scorers')\n",
    "display(leading_scorers)\n",
    "\n",
    "#consitency of a batsmen\n",
    "# Calculate batting average, handling division by zero\n",
    "player_batting_avg = (df_bat.groupby('player')['runs'].sum() / np.maximum((df_bat.groupby('player')['inns'].count() - df_bat.groupby('player')['not_out'].sum()), 1)).sort_values(ascending=False)[0:10]\n",
    "print('consitency of a batsmen')\n",
    "display(player_batting_avg)\n",
    "\n",
    "#avg time on field\n",
    "avg_time= df_bat.groupby('player')['mins'].mean().sort_values(ascending=False)[0:10]\n",
    "print('avg time on field')\n",
    "display(avg_time)\n",
    "\n",
    "#4s and 6s\n",
    "most_4s=df_bat.groupby('player')['4s'].sum().sort_values(ascending=False)[0:10]\n",
    "most_6s=df_bat.groupby('player')['6s'].sum().sort_values(ascending=False)[0:10]\n",
    "\n",
    "print('4s and 6s')\n",
    "display(most_4s)\n",
    "display(most_6s)\n"
   ]
  },
  {
   "cell_type": "code",
   "execution_count": null,
   "metadata": {},
   "outputs": [],
   "source": [
    "# Leading Wicket-takers:\n",
    "# Identify players with the highest wickets.\n",
    "leading_wkt_takers=df_bowl.groupby('player')['wkts'].sum().sort_values(ascending=False)[0:10]\n",
    "print(\"Leading Wicket-takers\")\n",
    "display(leading_wkt_takers)\n",
    "\n",
    "#consistency of bowlers\n",
    "#wickets per innnings\n",
    "player_wkt_avg = (df_bowl.groupby('player')['wkts'].sum() / df_bowl.groupby('player')['inns'].count()).sort_values(ascending=False)[0:10]\n",
    "display(player_wkt_avg)\n",
    "\n",
    "\n",
    "#avg economy \n",
    "#avg_econ=df_bowl.groupby('player')['econ'].mean().sort_values()[0:10]\n",
    "avg_econ=(df_bowl.groupby('player')['runs'].sum()/df_bowl.groupby('player')['overs'].sum()).sort_values()[0:10]\n",
    "\n",
    "\n",
    "#player bowling average\n",
    "# player_bowling_avg=(df_bowl[df_bowl['overs']>4].groupby('player')['runs'].sum()/df_bowl[df_bowl['overs']>4].groupby('player')['wkts'].sum()).sort_values()[0:10]\n",
    "player_bowling_avg=(df_bowl.groupby('player')['runs'].sum()/df_bowl.groupby('player')['wkts'].sum()).sort_values()[0:10]\n",
    "display(avg_econ)\n",
    "display(player_bowling_avg)"
   ]
  }
 ],
 "metadata": {
  "kernelspec": {
   "display_name": "Python 3",
   "language": "python",
   "name": "python3"
  },
  "language_info": {
   "codemirror_mode": {
    "name": "ipython",
    "version": 3
   },
   "file_extension": ".py",
   "mimetype": "text/x-python",
   "name": "python",
   "nbconvert_exporter": "python",
   "pygments_lexer": "ipython3",
   "version": "3.11.1"
  }
 },
 "nbformat": 4,
 "nbformat_minor": 2
}
